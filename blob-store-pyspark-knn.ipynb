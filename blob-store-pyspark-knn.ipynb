{
 "cells": [
  {
   "cell_type": "code",
   "execution_count": 1,
   "id": "d3567bfa",
   "metadata": {},
   "outputs": [
    {
     "name": "stderr",
     "output_type": "stream",
     "text": [
      "/usr/local/lib/python3.6/dist-packages/pyspark/context.py:238: FutureWarning: Python 3.6 support is deprecated in Spark 3.2.\n",
      "  FutureWarning\n"
     ]
    }
   ],
   "source": [
    "from pyspark.sql import SparkSession\n",
    "\n",
    "# Configuração do Azure Blob Storage\n",
    "storage_account_name = \"dadoswalney1\"\n",
    "storage_account_access_key = \"OYkvlca1NjvKE/W3fIRn9aSqtesteteste.teste.teste.teste\"\n",
    "container_name = \"neydados1\"\n",
    "# Configuração do Spark\n",
    "spark = SparkSession.builder \\\n",
    "    .appName(\"PySpark Azure Blob Storage Example\") \\\n",
    "    .config(\"spark.jars.packages\", \"org.apache.hadoop:hadoop-azure:3.2.1\") \\\n",
    "    .getOrCreate()\n",
    "\n",
    "\n"
   ]
  },
  {
   "cell_type": "code",
   "execution_count": 8,
   "id": "41b69f8d",
   "metadata": {},
   "outputs": [],
   "source": [
    "spark.conf.set(\"fs.azure.account.key.\" + storage_account_name + \".blob.core.windows.net\", storage_account_access_key)\n",
    "blob_file_path = f\"wasbs://{container_name}@{storage_account_name}.blob.core.windows.net/walneydados.csv\"\n"
   ]
  },
  {
   "cell_type": "code",
   "execution_count": 15,
   "id": "8877f2cf",
   "metadata": {},
   "outputs": [],
   "source": [
    "df = spark.read.csv(blob_file_path, header=True)"
   ]
  },
  {
   "cell_type": "code",
   "execution_count": 16,
   "id": "099130f9",
   "metadata": {},
   "outputs": [
    {
     "name": "stdout",
     "output_type": "stream",
     "text": [
      "+--------+-----------+-----------+--------+\n",
      "|Amostra | Feature 1 | Feature 2 | Rótulo |\n",
      "+--------+-----------+-----------+--------+\n",
      "|       1|        2.5|        3.0|       A|\n",
      "|       2|        1.0|        1.5|       B|\n",
      "|       3|        3.5|        2.0|       A|\n",
      "|       4|        4.0|        5.0|       B|\n",
      "+--------+-----------+-----------+--------+\n",
      "\n"
     ]
    }
   ],
   "source": [
    "df.show()"
   ]
  },
  {
   "cell_type": "code",
   "execution_count": 26,
   "id": "b2a865ad",
   "metadata": {},
   "outputs": [],
   "source": [
    "import numpy as np\n",
    "numpy_db=df.toPandas().values\n",
    "\n",
    "treino_X = np.array(numpy_db[:,0:3])\n",
    "rotulos_y = np.array(numpy_db[:,3]) "
   ]
  },
  {
   "cell_type": "code",
   "execution_count": 28,
   "id": "8bad5bd5",
   "metadata": {},
   "outputs": [
    {
     "data": {
      "text/plain": [
       "array([['1', '2.5', '3.0'],\n",
       "       ['2', '1.0', '1.5'],\n",
       "       ['3', '3.5', '2.0'],\n",
       "       ['4', '4.0', '5.0']], dtype=object)"
      ]
     },
     "execution_count": 28,
     "metadata": {},
     "output_type": "execute_result"
    }
   ],
   "source": [
    "treino_X"
   ]
  },
  {
   "cell_type": "code",
   "execution_count": 29,
   "id": "21ba2e53",
   "metadata": {},
   "outputs": [
    {
     "data": {
      "text/plain": [
       "array(['A', 'B', 'A', 'B'], dtype=object)"
      ]
     },
     "execution_count": 29,
     "metadata": {},
     "output_type": "execute_result"
    }
   ],
   "source": [
    "rotulos_y"
   ]
  },
  {
   "cell_type": "code",
   "execution_count": 17,
   "id": "9e460200",
   "metadata": {},
   "outputs": [],
   "source": [
    "import numpy as np\n",
    "\n",
    "# Função para calcular a distância euclidiana entre dois pontos\n",
    "def euclidean_distance(x1, x2):\n",
    "    return np.sqrt(np.sum((x1 - x2)**2))\n",
    "\n",
    "# Classe do modelo KNN\n",
    "class KNN:\n",
    "    def __init__(self, k=3):\n",
    "        self.k = k\n",
    "\n",
    "    # Método de treinamento: apenas armazena os dados de treinamento\n",
    "    def fit(self, X, y):\n",
    "        self.X_train = X\n",
    "        self.y_train = y\n",
    "\n",
    "    # Método de previsão\n",
    "    def predict(self, X):\n",
    "        predictions = []\n",
    "\n",
    "        # Itera sobre cada instância de teste\n",
    "        for x_test in X:\n",
    "            # Calcula as distâncias entre o ponto de teste e todos os pontos de treinamento\n",
    "            distances = [euclidean_distance(x_test, x_train) for x_train in self.X_train]\n",
    "            \n",
    "            # Ordena os índices das distâncias em ordem crescente\n",
    "            k_indices = np.argsort(distances)[:self.k]\n",
    "            \n",
    "            # Obtém os rótulos das k instâncias mais próximas\n",
    "            k_nearest_labels = [self.y_train[i] for i in k_indices]\n",
    "\n",
    "            # Realiza a votação majoritária para determinar a classe do ponto de teste\n",
    "            most_common = max(set(k_nearest_labels), key=k_nearest_labels.count)\n",
    "            predictions.append(most_common)\n",
    "\n",
    "        return predictions"
   ]
  },
  {
   "cell_type": "code",
   "execution_count": 36,
   "id": "1876ac1b",
   "metadata": {},
   "outputs": [],
   "source": [
    "treino_X = np.array(numpy_db[:,0:3],dtype=np.float64)\n",
    "rotulos_y = np.array(numpy_db[:,3]) "
   ]
  },
  {
   "cell_type": "code",
   "execution_count": 37,
   "id": "647f208d",
   "metadata": {},
   "outputs": [
    {
     "data": {
      "text/plain": [
       "array([[1. , 2.5, 3. ],\n",
       "       [2. , 1. , 1.5],\n",
       "       [3. , 3.5, 2. ],\n",
       "       [4. , 4. , 5. ]])"
      ]
     },
     "execution_count": 37,
     "metadata": {},
     "output_type": "execute_result"
    }
   ],
   "source": [
    "treino_X"
   ]
  },
  {
   "cell_type": "code",
   "execution_count": 38,
   "id": "ca8d559b",
   "metadata": {},
   "outputs": [
    {
     "name": "stdout",
     "output_type": "stream",
     "text": [
      "Predictions: ['A', 'A', 'A', 'A', 'A']\n"
     ]
    }
   ],
   "source": [
    "# Exemplo de uso\n",
    "if __name__ == \"__main__\":\n",
    "    # Dados de treinamento e teste\n",
    "    X_train = treino_X\n",
    "    y_train = rotulos_y\n",
    "\n",
    "    X_test = np.array([[1, 3,4], [8, 9,4], [0, 3,4], [5, 4,5], [6, 4,5]])\n",
    "\n",
    "    # Criando e treinando o modelo KNN\n",
    "    clf = KNN(k=3)\n",
    "    clf.fit(X_train, y_train)\n",
    "\n",
    "    # Realizando previsões\n",
    "    predictions = clf.predict(X_test)\n"
   ]
  },
  {
   "cell_type": "code",
   "execution_count": 5,
   "id": "09c15572",
   "metadata": {
    "scrolled": true
   },
   "outputs": [
    {
     "name": "stdout",
     "output_type": "stream",
     "text": [
      "\u001b[31mERROR: Could not find a version that satisfies the requirement hadoop-azure (from versions: none)\u001b[0m\n",
      "\u001b[31mERROR: No matching distribution found for hadoop-azure\u001b[0m\n",
      "Note: you may need to restart the kernel to use updated packages.\n"
     ]
    }
   ],
   "source": [
    "pip install hadoop-azure"
   ]
  },
  {
   "cell_type": "code",
   "execution_count": null,
   "id": "fdc2ee07",
   "metadata": {},
   "outputs": [],
   "source": []
  }
 ],
 "metadata": {
  "kernelspec": {
   "display_name": "Python 3",
   "language": "python",
   "name": "python3"
  },
  "language_info": {
   "codemirror_mode": {
    "name": "ipython",
    "version": 3
   },
   "file_extension": ".py",
   "mimetype": "text/x-python",
   "name": "python",
   "nbconvert_exporter": "python",
   "pygments_lexer": "ipython3",
   "version": "3.6.9"
  }
 },
 "nbformat": 4,
 "nbformat_minor": 5
}
